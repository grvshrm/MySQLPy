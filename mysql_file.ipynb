{
 "cells": [
  {
   "cell_type": "code",
   "execution_count": 4,
   "id": "67311758",
   "metadata": {},
   "outputs": [],
   "source": [
    "import mysql.connector"
   ]
  },
  {
   "cell_type": "code",
   "execution_count": 5,
   "id": "e80005e3",
   "metadata": {},
   "outputs": [],
   "source": [
    "connection = mysql.connector.connect(\n",
    "    host = \"localhost\",\n",
    "    user = \"root\",\n",
    "    password = \"root\"\n",
    ")"
   ]
  },
  {
   "cell_type": "code",
   "execution_count": 6,
   "id": "cfd2351c",
   "metadata": {},
   "outputs": [
    {
     "name": "stdout",
     "output_type": "stream",
     "text": [
      "<mysql.connector.connection_cext.CMySQLConnection object at 0x000001A495D89A60>\n"
     ]
    }
   ],
   "source": [
    "print(connection)"
   ]
  },
  {
   "cell_type": "code",
   "execution_count": 7,
   "id": "982aaed9",
   "metadata": {},
   "outputs": [],
   "source": [
    "cursor = connection.cursor()"
   ]
  },
  {
   "cell_type": "code",
   "execution_count": 8,
   "id": "cb14c8b5",
   "metadata": {},
   "outputs": [],
   "source": [
    "cursor.execute(\"CREATE DATABASE demoDB\")"
   ]
  },
  {
   "cell_type": "code",
   "execution_count": 9,
   "id": "d91dd7b7",
   "metadata": {},
   "outputs": [],
   "source": [
    "cursor.execute(\"SHOW DATABASES\")"
   ]
  },
  {
   "cell_type": "code",
   "execution_count": 10,
   "id": "274153cb",
   "metadata": {},
   "outputs": [
    {
     "name": "stdout",
     "output_type": "stream",
     "text": [
      "('demodb',)\n",
      "('employees',)\n",
      "('gameofthrones',)\n",
      "('information_schema',)\n",
      "('library',)\n",
      "('mysql',)\n",
      "('performance_schema',)\n",
      "('sys',)\n"
     ]
    }
   ],
   "source": [
    "for db in cursor:\n",
    "    print(db)"
   ]
  },
  {
   "cell_type": "code",
   "execution_count": 11,
   "id": "8abf0f3b",
   "metadata": {},
   "outputs": [],
   "source": [
    "connection = mysql.connector.connect(\n",
    "    host = \"localhost\",\n",
    "    user = \"root\",\n",
    "    password = \"root\",\n",
    "    database = \"demodb\"\n",
    ")"
   ]
  },
  {
   "cell_type": "code",
   "execution_count": 12,
   "id": "b2097de8",
   "metadata": {},
   "outputs": [],
   "source": [
    "cursor = connection.cursor()"
   ]
  },
  {
   "cell_type": "code",
   "execution_count": 13,
   "id": "ad122a69",
   "metadata": {},
   "outputs": [
    {
     "name": "stdout",
     "output_type": "stream",
     "text": [
      "CMySQLCursor: (Nothing executed yet)\n"
     ]
    }
   ],
   "source": [
    "print(cursor)"
   ]
  },
  {
   "cell_type": "code",
   "execution_count": 14,
   "id": "251bfc07",
   "metadata": {},
   "outputs": [],
   "source": [
    "cursor.execute(\"CREATE TABLE students(name varchar(40), code varchar(40))\")"
   ]
  },
  {
   "cell_type": "code",
   "execution_count": 15,
   "id": "505d6eb5",
   "metadata": {},
   "outputs": [],
   "source": [
    "cursor.execute(\"SHOW TABLES\")"
   ]
  },
  {
   "cell_type": "code",
   "execution_count": 16,
   "id": "1e587bf3",
   "metadata": {},
   "outputs": [
    {
     "name": "stdout",
     "output_type": "stream",
     "text": [
      "('students',)\n"
     ]
    }
   ],
   "source": [
    "for tbl in cursor:\n",
    "    print(tbl)"
   ]
  },
  {
   "cell_type": "code",
   "execution_count": 17,
   "id": "34fdf45d",
   "metadata": {},
   "outputs": [],
   "source": [
    "cursor.execute(\"ALTER TABLE students add column id int auto_increment primary key\")"
   ]
  },
  {
   "cell_type": "code",
   "execution_count": 26,
   "id": "f565d195",
   "metadata": {},
   "outputs": [],
   "source": [
    "cursor.execute(\"describe students\")"
   ]
  },
  {
   "cell_type": "code",
   "execution_count": 27,
   "id": "14e90a3c",
   "metadata": {},
   "outputs": [
    {
     "name": "stdout",
     "output_type": "stream",
     "text": [
      "('name', b'varchar(40)', 'YES', '', None, '')\n",
      "('code', b'varchar(40)', 'YES', '', None, '')\n",
      "('id', b'int', 'NO', 'PRI', None, 'auto_increment')\n"
     ]
    }
   ],
   "source": [
    "for tbl in cursor:\n",
    "    print(tbl)"
   ]
  },
  {
   "cell_type": "code",
   "execution_count": 28,
   "id": "217597d2",
   "metadata": {},
   "outputs": [
    {
     "data": {
      "text/plain": [
       "<mysql.connector.cursor_cext.CMySQLCursor at 0x1a495d89820>"
      ]
     },
     "execution_count": 28,
     "metadata": {},
     "output_type": "execute_result"
    }
   ],
   "source": [
    "cursor"
   ]
  },
  {
   "cell_type": "code",
   "execution_count": 30,
   "id": "c884307c",
   "metadata": {},
   "outputs": [],
   "source": [
    "insert_stmt = \"insert into students(name, code) values(%s, %s)\"\n",
    "cursor.execute(insert_stmt, ('Ronaldo', 'CODE12'))\n",
    "connection.commit()"
   ]
  },
  {
   "cell_type": "code",
   "execution_count": 33,
   "id": "f2db9d32",
   "metadata": {},
   "outputs": [
    {
     "name": "stdout",
     "output_type": "stream",
     "text": [
      "1 New Record Inserted\n"
     ]
    }
   ],
   "source": [
    "print(cursor.rowcount, \"New Record Inserted\")"
   ]
  },
  {
   "cell_type": "code",
   "execution_count": 70,
   "id": "3bb5d1be",
   "metadata": {},
   "outputs": [
    {
     "name": "stdout",
     "output_type": "stream",
     "text": [
      "2 New Records Inserted\n"
     ]
    }
   ],
   "source": [
    "insert_stmt = \"insert into students(name, code) values(%s, %s)\"\n",
    "values = [\n",
    "    ('Messi', 'CODE30'),\n",
    "    ('Van Persie', 'CODE25')\n",
    "]\n",
    "cursor.executemany(insert_stmt, values)\n",
    "connection.commit()\n",
    "print(cursor.rowcount, \"New Records Inserted\")"
   ]
  },
  {
   "cell_type": "code",
   "execution_count": 35,
   "id": "10c3e543",
   "metadata": {},
   "outputs": [],
   "source": [
    "cursor.execute(\"select * from students\")\n",
    "data = cursor.fetchall()"
   ]
  },
  {
   "cell_type": "code",
   "execution_count": 36,
   "id": "877be37a",
   "metadata": {},
   "outputs": [
    {
     "data": {
      "text/plain": [
       "[('Ronaldo', 'CODE12', 1), ('Messi', 'CODE30', 2), ('Van Persie', 'CODE25', 3)]"
      ]
     },
     "execution_count": 36,
     "metadata": {},
     "output_type": "execute_result"
    }
   ],
   "source": [
    "data"
   ]
  },
  {
   "cell_type": "code",
   "execution_count": 37,
   "id": "8cb5adec",
   "metadata": {},
   "outputs": [
    {
     "data": {
      "text/plain": [
       "list"
      ]
     },
     "execution_count": 37,
     "metadata": {},
     "output_type": "execute_result"
    }
   ],
   "source": [
    "type(data)"
   ]
  },
  {
   "cell_type": "code",
   "execution_count": 38,
   "id": "fd3b09d6",
   "metadata": {},
   "outputs": [],
   "source": [
    "cursor.execute(\"select * from students\")\n",
    "data = cursor.fetchone()"
   ]
  },
  {
   "cell_type": "code",
   "execution_count": 39,
   "id": "c7530029",
   "metadata": {},
   "outputs": [
    {
     "data": {
      "text/plain": [
       "('Ronaldo', 'CODE12', 1)"
      ]
     },
     "execution_count": 39,
     "metadata": {},
     "output_type": "execute_result"
    }
   ],
   "source": [
    "data"
   ]
  },
  {
   "cell_type": "code",
   "execution_count": 40,
   "id": "6aedf20d",
   "metadata": {},
   "outputs": [
    {
     "data": {
      "text/plain": [
       "tuple"
      ]
     },
     "execution_count": 40,
     "metadata": {},
     "output_type": "execute_result"
    }
   ],
   "source": [
    "type(data)"
   ]
  },
  {
   "cell_type": "code",
   "execution_count": 59,
   "id": "c501dc5a",
   "metadata": {},
   "outputs": [],
   "source": [
    "## Buffer cursor(buffered = True) or reset cursor, \n",
    "## fetchone actually fetches all recors, returns only top though, so if you use that cursor again, it'll have unread results"
   ]
  },
  {
   "cell_type": "code",
   "execution_count": 48,
   "id": "d8962eb6",
   "metadata": {},
   "outputs": [],
   "source": [
    "cursor.reset()\n",
    "cursor.execute(\"select * from students where code like '%30' limit 1\")\n",
    "data = cursor.fetchone()"
   ]
  },
  {
   "cell_type": "code",
   "execution_count": 49,
   "id": "3c8986f9",
   "metadata": {},
   "outputs": [
    {
     "data": {
      "text/plain": [
       "('Messi', 'CODE30', 2)"
      ]
     },
     "execution_count": 49,
     "metadata": {},
     "output_type": "execute_result"
    }
   ],
   "source": [
    "data"
   ]
  },
  {
   "cell_type": "code",
   "execution_count": 50,
   "id": "58962069",
   "metadata": {},
   "outputs": [],
   "source": [
    "cursor.execute(\"select * from students\")\n",
    "data = cursor.fetchall()"
   ]
  },
  {
   "cell_type": "code",
   "execution_count": 51,
   "id": "2b9eb27d",
   "metadata": {},
   "outputs": [
    {
     "data": {
      "text/plain": [
       "[('Ronaldo', 'CODE12', 1), ('Messi', 'CODE30', 2), ('Van Persie', 'CODE25', 3)]"
      ]
     },
     "execution_count": 51,
     "metadata": {},
     "output_type": "execute_result"
    }
   ],
   "source": [
    "data"
   ]
  },
  {
   "cell_type": "code",
   "execution_count": 52,
   "id": "070d9940",
   "metadata": {},
   "outputs": [],
   "source": [
    "cursor.execute(\"select * from students\")\n",
    "data = cursor.fetchone()"
   ]
  },
  {
   "cell_type": "code",
   "execution_count": 53,
   "id": "271cad50",
   "metadata": {},
   "outputs": [
    {
     "data": {
      "text/plain": [
       "('Ronaldo', 'CODE12', 1)"
      ]
     },
     "execution_count": 53,
     "metadata": {},
     "output_type": "execute_result"
    }
   ],
   "source": [
    "data"
   ]
  },
  {
   "cell_type": "code",
   "execution_count": 60,
   "id": "460e9a13",
   "metadata": {},
   "outputs": [
    {
     "data": {
      "text/plain": [
       "[('Van Persie', 'CODE25', 3), ('Ronaldo', 'CODE12', 1), ('Messi', 'CODE30', 2)]"
      ]
     },
     "execution_count": 60,
     "metadata": {},
     "output_type": "execute_result"
    }
   ],
   "source": [
    "cursor.reset()\n",
    "cursor.execute(\"select * from students order by name desc\")\n",
    "data = cursor.fetchall()\n",
    "data"
   ]
  },
  {
   "cell_type": "code",
   "execution_count": 61,
   "id": "cee1b5fb",
   "metadata": {},
   "outputs": [],
   "source": [
    "del_stmt = \"delete from students where id = 3\"\n",
    "cursor.execute(del_stmt)\n",
    "connection.commit()\n",
    "print(cursor.rowcount, \"Records Deleted\")"
   ]
  },
  {
   "cell_type": "code",
   "execution_count": 62,
   "id": "cd13fd76",
   "metadata": {},
   "outputs": [
    {
     "data": {
      "text/plain": [
       "[('Ronaldo', 'CODE12', 1), ('Messi', 'CODE30', 2)]"
      ]
     },
     "execution_count": 62,
     "metadata": {},
     "output_type": "execute_result"
    }
   ],
   "source": [
    "cursor.execute(\"select * from students\")\n",
    "data = cursor.fetchall()\n",
    "data"
   ]
  },
  {
   "cell_type": "code",
   "execution_count": 65,
   "id": "92cd60d5",
   "metadata": {},
   "outputs": [
    {
     "name": "stdout",
     "output_type": "stream",
     "text": [
      "1 Records Deleted\n"
     ]
    }
   ],
   "source": [
    "del_stmt = \"delete from students where name = %s\"\n",
    "name = (\"Messi\",)\n",
    "cursor.execute(del_stmt, name)\n",
    "connection.commit()\n",
    "print(cursor.rowcount, \"Records Deleted\")"
   ]
  },
  {
   "cell_type": "code",
   "execution_count": 71,
   "id": "90029d3c",
   "metadata": {},
   "outputs": [
    {
     "data": {
      "text/plain": [
       "[('Ronaldo', 'CODE22', 1), ('Messi', 'CODE30', 4), ('Van Persie', 'CODE25', 5)]"
      ]
     },
     "execution_count": 71,
     "metadata": {},
     "output_type": "execute_result"
    }
   ],
   "source": [
    "cursor.execute(\"select * from students\")\n",
    "data = cursor.fetchall()\n",
    "data"
   ]
  },
  {
   "cell_type": "code",
   "execution_count": 67,
   "id": "fad488ad",
   "metadata": {},
   "outputs": [],
   "source": [
    "cursor.execute(\"drop table if exists clients\")"
   ]
  },
  {
   "cell_type": "code",
   "execution_count": 68,
   "id": "78fb18b1",
   "metadata": {},
   "outputs": [
    {
     "name": "stdout",
     "output_type": "stream",
     "text": [
      "1 Records Updated\n"
     ]
    }
   ],
   "source": [
    "update_stmt = \"Update students set code = %s where code = %s\"\n",
    "values = (\"CODE22\", \"CODE12\")\n",
    "cursor.execute(update_stmt, values)\n",
    "connection.commit()\n",
    "print(cursor.rowcount, \"Records Updated\")"
   ]
  },
  {
   "cell_type": "code",
   "execution_count": 75,
   "id": "8047eab1",
   "metadata": {},
   "outputs": [
    {
     "data": {
      "text/plain": [
       "[('Messi', 'CODE30', 4), ('Van Persie', 'CODE25', 5)]"
      ]
     },
     "execution_count": 75,
     "metadata": {},
     "output_type": "execute_result"
    }
   ],
   "source": [
    "# cursor.execute(\"select * from students limit 1,2\")\n",
    "cursor.execute(\"select * from students limit 2 offset 1\")\n",
    "data = cursor.fetchall()\n",
    "data"
   ]
  },
  {
   "cell_type": "code",
   "execution_count": null,
   "id": "0d77f594",
   "metadata": {},
   "outputs": [],
   "source": []
  }
 ],
 "metadata": {
  "kernelspec": {
   "display_name": "Python 3 (ipykernel)",
   "language": "python",
   "name": "python3"
  },
  "language_info": {
   "codemirror_mode": {
    "name": "ipython",
    "version": 3
   },
   "file_extension": ".py",
   "mimetype": "text/x-python",
   "name": "python",
   "nbconvert_exporter": "python",
   "pygments_lexer": "ipython3",
   "version": "3.9.13"
  }
 },
 "nbformat": 4,
 "nbformat_minor": 5
}
